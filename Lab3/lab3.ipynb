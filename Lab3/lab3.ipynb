{
 "cells": [
  {
   "metadata": {},
   "cell_type": "markdown",
   "source": [
    "## Лабораторная 3. Линейная регрессия\n",
    "\n",
    "### Задание\n",
    "\n",
    " - Выбор датасетов:\n",
    "   - Студенты с нечетным порядковым номером в группе должны использовать про обучение студентов\n",
    " 1. Получите и визуализируйте (графически) статистику по датасету (включая количество, среднее значение, стандартное отклонение, минимум, максимум и различные квантили).\n",
    " 2. Проведите предварительную обработку данных, включая обработку отсутствующих значений, кодирование категориальных признаков и нормировка.\n",
    " 3. Разделите данные на обучающий и тестовый наборы данных.\n",
    " 4. Реализуйте линейную регрессию с использованием метода наименьших квадратов без использования сторонних библиотек, кроме NumPy и Pandas (для использования коэффициентов использовать библиотеки тоже нельзя). Использовать минимизацию суммы квадратов разностей между фактическими и предсказанными значениями для нахождения оптимальных коэффициентов.\n",
    " 5. Постройте три модели с различными наборами признаков. Для каждой модели проведите оценку производительности, используя метрику коэффициент детерминации, чтобы измерить, насколько хорошо модель соответствует данным.\n",
    " 6. Сравните результаты трех моделей и сделайте выводы о том, какие признаки работают лучше всего для каждой модели.\n",
    " - Бонусное задание: Ввести синтетический признак при построении модели"
   ],
   "id": "92b76dae7cf561bf"
  },
  {
   "metadata": {},
   "cell_type": "markdown",
   "source": [
    "### Решение\n",
    "Импортируем необходимые библиотеки"
   ],
   "id": "794e555a811f849d"
  },
  {
   "metadata": {
    "ExecuteTime": {
     "end_time": "2024-09-28T07:28:52.372483Z",
     "start_time": "2024-09-28T07:28:50.813201Z"
    }
   },
   "cell_type": "code",
   "source": [
    "import pandas as pd\n",
    "import numpy as np\n",
    "import matplotlib.pyplot as plt"
   ],
   "id": "c648b7242b12450c",
   "outputs": [],
   "execution_count": 1
  },
  {
   "metadata": {},
   "cell_type": "markdown",
   "source": [
    "### 1. Получите и визуализируйте (графически) статистику по датасету (включая количество, среднее значение, стандартное отклонение, минимум, максимум и различные квантили).\n",
    "Считываем данные"
   ],
   "id": "4307e879fb38c39c"
  },
  {
   "metadata": {
    "ExecuteTime": {
     "end_time": "2024-09-28T07:28:52.411882Z",
     "start_time": "2024-09-28T07:28:52.372483Z"
    }
   },
   "cell_type": "code",
   "source": [
    "file_path = './archive/student_performance.csv'\n",
    "data = pd.read_csv(file_path)\n",
    "data.describe()"
   ],
   "id": "fbf9e90fb0142d79",
   "outputs": [
    {
     "data": {
      "text/plain": [
       "       Hours Studied  Previous Scores   Sleep Hours  \\\n",
       "count   10000.000000     10000.000000  10000.000000   \n",
       "mean        4.992900        69.445700      6.530600   \n",
       "std         2.589309        17.343152      1.695863   \n",
       "min         1.000000        40.000000      4.000000   \n",
       "25%         3.000000        54.000000      5.000000   \n",
       "50%         5.000000        69.000000      7.000000   \n",
       "75%         7.000000        85.000000      8.000000   \n",
       "max         9.000000        99.000000      9.000000   \n",
       "\n",
       "       Sample Question Papers Practiced  Performance Index  \n",
       "count                      10000.000000       10000.000000  \n",
       "mean                           4.583300          55.224800  \n",
       "std                            2.867348          19.212558  \n",
       "min                            0.000000          10.000000  \n",
       "25%                            2.000000          40.000000  \n",
       "50%                            5.000000          55.000000  \n",
       "75%                            7.000000          71.000000  \n",
       "max                            9.000000         100.000000  "
      ],
      "text/html": [
       "<div>\n",
       "<style scoped>\n",
       "    .dataframe tbody tr th:only-of-type {\n",
       "        vertical-align: middle;\n",
       "    }\n",
       "\n",
       "    .dataframe tbody tr th {\n",
       "        vertical-align: top;\n",
       "    }\n",
       "\n",
       "    .dataframe thead th {\n",
       "        text-align: right;\n",
       "    }\n",
       "</style>\n",
       "<table border=\"1\" class=\"dataframe\">\n",
       "  <thead>\n",
       "    <tr style=\"text-align: right;\">\n",
       "      <th></th>\n",
       "      <th>Hours Studied</th>\n",
       "      <th>Previous Scores</th>\n",
       "      <th>Sleep Hours</th>\n",
       "      <th>Sample Question Papers Practiced</th>\n",
       "      <th>Performance Index</th>\n",
       "    </tr>\n",
       "  </thead>\n",
       "  <tbody>\n",
       "    <tr>\n",
       "      <th>count</th>\n",
       "      <td>10000.000000</td>\n",
       "      <td>10000.000000</td>\n",
       "      <td>10000.000000</td>\n",
       "      <td>10000.000000</td>\n",
       "      <td>10000.000000</td>\n",
       "    </tr>\n",
       "    <tr>\n",
       "      <th>mean</th>\n",
       "      <td>4.992900</td>\n",
       "      <td>69.445700</td>\n",
       "      <td>6.530600</td>\n",
       "      <td>4.583300</td>\n",
       "      <td>55.224800</td>\n",
       "    </tr>\n",
       "    <tr>\n",
       "      <th>std</th>\n",
       "      <td>2.589309</td>\n",
       "      <td>17.343152</td>\n",
       "      <td>1.695863</td>\n",
       "      <td>2.867348</td>\n",
       "      <td>19.212558</td>\n",
       "    </tr>\n",
       "    <tr>\n",
       "      <th>min</th>\n",
       "      <td>1.000000</td>\n",
       "      <td>40.000000</td>\n",
       "      <td>4.000000</td>\n",
       "      <td>0.000000</td>\n",
       "      <td>10.000000</td>\n",
       "    </tr>\n",
       "    <tr>\n",
       "      <th>25%</th>\n",
       "      <td>3.000000</td>\n",
       "      <td>54.000000</td>\n",
       "      <td>5.000000</td>\n",
       "      <td>2.000000</td>\n",
       "      <td>40.000000</td>\n",
       "    </tr>\n",
       "    <tr>\n",
       "      <th>50%</th>\n",
       "      <td>5.000000</td>\n",
       "      <td>69.000000</td>\n",
       "      <td>7.000000</td>\n",
       "      <td>5.000000</td>\n",
       "      <td>55.000000</td>\n",
       "    </tr>\n",
       "    <tr>\n",
       "      <th>75%</th>\n",
       "      <td>7.000000</td>\n",
       "      <td>85.000000</td>\n",
       "      <td>8.000000</td>\n",
       "      <td>7.000000</td>\n",
       "      <td>71.000000</td>\n",
       "    </tr>\n",
       "    <tr>\n",
       "      <th>max</th>\n",
       "      <td>9.000000</td>\n",
       "      <td>99.000000</td>\n",
       "      <td>9.000000</td>\n",
       "      <td>9.000000</td>\n",
       "      <td>100.000000</td>\n",
       "    </tr>\n",
       "  </tbody>\n",
       "</table>\n",
       "</div>"
      ]
     },
     "execution_count": 2,
     "metadata": {},
     "output_type": "execute_result"
    }
   ],
   "execution_count": 2
  },
  {
   "metadata": {},
   "cell_type": "markdown",
   "source": "Визуализируем статистику",
   "id": "696d0dfc27b66bc"
  },
  {
   "metadata": {
    "ExecuteTime": {
     "end_time": "2024-09-28T07:28:53.038101Z",
     "start_time": "2024-09-28T07:28:52.411882Z"
    }
   },
   "cell_type": "code",
   "source": [
    "desc = data.describe()\n",
    "\n",
    "for col in data.columns:\n",
    "    if col == 'Extracurricular Activities':\n",
    "        continue\n",
    "    plt.figure()\n",
    "    data[col].hist(bins=len(data[col].unique()))\n",
    "    \n",
    "    mean = desc[col]['mean']\n",
    "    std = desc[col]['std']\n",
    "    min_val = desc[col]['min']\n",
    "    q25 = desc[col]['25%']\n",
    "    median = desc[col]['50%']\n",
    "    q75 = desc[col]['75%']\n",
    "    max_val = desc[col]['max']\n",
    "    \n",
    "    plt.axvline(mean, color='r', linestyle='dashed', linewidth=2)\n",
    "    plt.text(mean, plt.ylim()[1]*0.9, 'Mean', color='r', ha='center')\n",
    "    \n",
    "    plt.axvline(mean + std, color='g', linestyle='dashed', linewidth=1)\n",
    "    plt.text(mean + std, plt.ylim()[1]*0.8, 'Mean + Std', color='g', ha='center')\n",
    "    \n",
    "    plt.axvline(mean - std, color='g', linestyle='dashed', linewidth=1)\n",
    "    plt.text(mean - std, plt.ylim()[1]*0.8, 'Mean - Std', color='g', ha='center')\n",
    "    \n",
    "    plt.axvline(min_val, color='b', linestyle='dashed', linewidth=2)\n",
    "    plt.text(min_val, plt.ylim()[1]*0.9, 'Min', color='b', ha='center')\n",
    "    \n",
    "    plt.axvline(q25, color='y', linestyle='dashed', linewidth=1)\n",
    "    plt.text(q25, plt.ylim()[1]*0.7, '25%', color='c', ha='center')\n",
    "    \n",
    "    plt.axvline(median, color='y', linestyle='dashed', linewidth=1)\n",
    "    plt.text(median, plt.ylim()[1]*0.7, '50%', color='m', ha='center')\n",
    "    \n",
    "    plt.axvline(q75, color='y', linestyle='dashed', linewidth=1)\n",
    "    plt.text(q75, plt.ylim()[1]*0.7, '75%', color='y', ha='center')\n",
    "    \n",
    "    plt.axvline(max_val, color='b', linestyle='dashed', linewidth=2)\n",
    "    plt.text(max_val, plt.ylim()[1]*0.9, 'Max', color='k', ha='center')\n",
    "    \n",
    "    plt.title(col)\n",
    "    plt.show()"
   ],
   "id": "e84288670095c43a",
   "outputs": [
    {
     "data": {
      "text/plain": [
       "<Figure size 640x480 with 1 Axes>"
      ],
      "image/png": "[encoded data removed]"
     },
     "metadata": {},
     "output_type": "display_data"
    },
    {
     "data": {
      "text/plain": [
       "<Figure size 640x480 with 1 Axes>"
      ],
      "image/png": "[encoded data removed]"
     },
     "metadata": {},
     "output_type": "display_data"
    },
    {
     "data": {
      "text/plain": [
       "<Figure size 640x480 with 1 Axes>"
      ],
      "image/png": "[encoded data removed]"
     },
     "metadata": {},
     "output_type": "display_data"
    },
    {
     "data": {
      "text/plain": [
       "<Figure size 640x480 with 1 Axes>"
      ],
      "image/png": "[encoded data removed]"
     },
     "metadata": {},
     "output_type": "display_data"
    },
    {
     "data": {
      "text/plain": [
       "<Figure size 640x480 with 1 Axes>"
      ],
      "image/png": "[encoded data removed]"
     },
     "metadata": {},
     "output_type": "display_data"
    }
   ],
   "execution_count": 3
  },
  {
   "metadata": {},
   "cell_type": "markdown",
   "source": "### 2. Проведите предварительную обработку данных, включая обработку отсутствующих значений, кодирование категориальных признаков и нормировка.",
   "id": "9f34422cfd55d8f7"
  },
  {
   "metadata": {},
   "cell_type": "markdown",
   "source": "Удаляем строки с пропущенными значениями",
   "id": "4115df073e08eab2"
  },
  {
   "metadata": {
    "ExecuteTime": {
     "end_time": "2024-09-28T07:28:53.044498Z",
     "start_time": "2024-09-28T07:28:53.038720Z"
    }
   },
   "cell_type": "code",
   "source": [
    "missing_values = data.isnull().sum()\n",
    "print(\"Missing values per column:\")\n",
    "print(missing_values)\n",
    "rows_to_delete = data.isnull().any(axis=1).sum()\n",
    "data = data.dropna()\n",
    "print(\"Deleted rows:\", rows_to_delete)"
   ],
   "id": "9ac010856a4c0774",
   "outputs": [
    {
     "name": "stdout",
     "output_type": "stream",
     "text": [
      "Missing values per column:\n",
      "Hours Studied                       0\n",
      "Previous Scores                     0\n",
      "Extracurricular Activities          0\n",
      "Sleep Hours                         0\n",
      "Sample Question Papers Practiced    0\n",
      "Performance Index                   0\n",
      "dtype: int64\n",
      "Deleted rows: 0\n"
     ]
    }
   ],
   "execution_count": 4
  },
  {
   "metadata": {},
   "cell_type": "markdown",
   "source": "Кодируем категориальные признаки",
   "id": "8a95e78e5a979226"
  },
  {
   "metadata": {
    "ExecuteTime": {
     "end_time": "2024-09-28T07:28:53.055587Z",
     "start_time": "2024-09-28T07:28:53.046504Z"
    }
   },
   "cell_type": "code",
   "source": [
    "data['Extracurricular Activities'] = data['Extracurricular Activities'].map({'Yes': 1, 'No': 0})\n",
    "data"
   ],
   "id": "f78098ef51c3be1d",
   "outputs": [
    {
     "data": {
      "text/plain": [
       "      Hours Studied  Previous Scores  Extracurricular Activities  Sleep Hours  \\\n",
       "0                 7               99                           1            9   \n",
       "1                 4               82                           0            4   \n",
       "2                 8               51                           1            7   \n",
       "3                 5               52                           1            5   \n",
       "4                 7               75                           0            8   \n",
       "...             ...              ...                         ...          ...   \n",
       "9995              1               49                           1            4   \n",
       "9996              7               64                           1            8   \n",
       "9997              6               83                           1            8   \n",
       "9998              9               97                           1            7   \n",
       "9999              7               74                           0            8   \n",
       "\n",
       "      Sample Question Papers Practiced  Performance Index  \n",
       "0                                    1               91.0  \n",
       "1                                    2               65.0  \n",
       "2                                    2               45.0  \n",
       "3                                    2               36.0  \n",
       "4                                    5               66.0  \n",
       "...                                ...                ...  \n",
       "9995                                 2               23.0  \n",
       "9996                                 5               58.0  \n",
       "9997                                 5               74.0  \n",
       "9998                                 0               95.0  \n",
       "9999                                 1               64.0  \n",
       "\n",
       "[10000 rows x 6 columns]"
      ],
      "text/html": [
       "<div>\n",
       "<style scoped>\n",
       "    .dataframe tbody tr th:only-of-type {\n",
       "        vertical-align: middle;\n",
       "    }\n",
       "\n",
       "    .dataframe tbody tr th {\n",
       "        vertical-align: top;\n",
       "    }\n",
       "\n",
       "    .dataframe thead th {\n",
       "        text-align: right;\n",
       "    }\n",
       "</style>\n",
       "<table border=\"1\" class=\"dataframe\">\n",
       "  <thead>\n",
       "    <tr style=\"text-align: right;\">\n",
       "      <th></th>\n",
       "      <th>Hours Studied</th>\n",
       "      <th>Previous Scores</th>\n",
       "      <th>Extracurricular Activities</th>\n",
       "      <th>Sleep Hours</th>\n",
       "      <th>Sample Question Papers Practiced</th>\n",
       "      <th>Performance Index</th>\n",
       "    </tr>\n",
       "  </thead>\n",
       "  <tbody>\n",
       "    <tr>\n",
       "      <th>0</th>\n",
       "      <td>7</td>\n",
       "      <td>99</td>\n",
       "      <td>1</td>\n",
       "      <td>9</td>\n",
       "      <td>1</td>\n",
       "      <td>91.0</td>\n",
       "    </tr>\n",
       "    <tr>\n",
       "      <th>1</th>\n",
       "      <td>4</td>\n",
       "      <td>82</td>\n",
       "      <td>0</td>\n",
       "      <td>4</td>\n",
       "      <td>2</td>\n",
       "      <td>65.0</td>\n",
       "    </tr>\n",
       "    <tr>\n",
       "      <th>2</th>\n",
       "      <td>8</td>\n",
       "      <td>51</td>\n",
       "      <td>1</td>\n",
       "      <td>7</td>\n",
       "      <td>2</td>\n",
       "      <td>45.0</td>\n",
       "    </tr>\n",
       "    <tr>\n",
       "      <th>3</th>\n",
       "      <td>5</td>\n",
       "      <td>52</td>\n",
       "      <td>1</td>\n",
       "      <td>5</td>\n",
       "      <td>2</td>\n",
       "      <td>36.0</td>\n",
       "    </tr>\n",
       "    <tr>\n",
       "      <th>4</th>\n",
       "      <td>7</td>\n",
       "      <td>75</td>\n",
       "      <td>0</td>\n",
       "      <td>8</td>\n",
       "      <td>5</td>\n",
       "      <td>66.0</td>\n",
       "    </tr>\n",
       "    <tr>\n",
       "      <th>...</th>\n",
       "      <td>...</td>\n",
       "      <td>...</td>\n",
       "      <td>...</td>\n",
       "      <td>...</td>\n",
       "      <td>...</td>\n",
       "      <td>...</td>\n",
       "    </tr>\n",
       "    <tr>\n",
       "      <th>9995</th>\n",
       "      <td>1</td>\n",
       "      <td>49</td>\n",
       "      <td>1</td>\n",
       "      <td>4</td>\n",
       "      <td>2</td>\n",
       "      <td>23.0</td>\n",
       "    </tr>\n",
       "    <tr>\n",
       "      <th>9996</th>\n",
       "      <td>7</td>\n",
       "      <td>64</td>\n",
       "      <td>1</td>\n",
       "      <td>8</td>\n",
       "      <td>5</td>\n",
       "      <td>58.0</td>\n",
       "    </tr>\n",
       "    <tr>\n",
       "      <th>9997</th>\n",
       "      <td>6</td>\n",
       "      <td>83</td>\n",
       "      <td>1</td>\n",
       "      <td>8</td>\n",
       "      <td>5</td>\n",
       "      <td>74.0</td>\n",
       "    </tr>\n",
       "    <tr>\n",
       "      <th>9998</th>\n",
       "      <td>9</td>\n",
       "      <td>97</td>\n",
       "      <td>1</td>\n",
       "      <td>7</td>\n",
       "      <td>0</td>\n",
       "      <td>95.0</td>\n",
       "    </tr>\n",
       "    <tr>\n",
       "      <th>9999</th>\n",
       "      <td>7</td>\n",
       "      <td>74</td>\n",
       "      <td>0</td>\n",
       "      <td>8</td>\n",
       "      <td>1</td>\n",
       "      <td>64.0</td>\n",
       "    </tr>\n",
       "  </tbody>\n",
       "</table>\n",
       "<p>10000 rows × 6 columns</p>\n",
       "</div>"
      ]
     },
     "execution_count": 5,
     "metadata": {},
     "output_type": "execute_result"
    }
   ],
   "execution_count": 5
  },
  {
   "metadata": {},
   "cell_type": "markdown",
   "source": "Нормируем данные",
   "id": "e0935bb231e8cae9"
  },
  {
   "metadata": {
    "ExecuteTime": {
     "end_time": "2024-09-28T07:28:53.067158Z",
     "start_time": "2024-09-28T07:28:53.056612Z"
    }
   },
   "cell_type": "code",
   "source": [
    "data = (data - data.mean()) / data.std()\n",
    "data"
   ],
   "id": "c94383971fcc4c00",
   "outputs": [
    {
     "data": {
      "text/plain": [
       "      Hours Studied  Previous Scores  Extracurricular Activities  Sleep Hours  \\\n",
       "0          0.775149         1.704090                    1.010404     1.456132   \n",
       "1         -0.383461         0.723876                   -0.989604    -1.492220   \n",
       "2          1.161352        -1.063573                    1.010404     0.276791   \n",
       "3          0.002742        -1.005913                    1.010404    -0.902549   \n",
       "4          0.775149         0.320259                   -0.989604     0.866462   \n",
       "...             ...              ...                         ...          ...   \n",
       "9995      -1.542072        -1.178892                    1.010404    -1.492220   \n",
       "9996       0.775149        -0.313997                    1.010404     0.866462   \n",
       "9997       0.388945         0.781536                    1.010404     0.866462   \n",
       "9998       1.547556         1.588771                    1.010404     0.276791   \n",
       "9999       0.775149         0.262599                   -0.989604     0.866462   \n",
       "\n",
       "      Sample Question Papers Practiced  Performance Index  \n",
       "0                            -1.249691           1.862074  \n",
       "1                            -0.900937           0.508792  \n",
       "2                            -0.900937          -0.532194  \n",
       "3                            -0.900937          -1.000637  \n",
       "4                             0.145326           0.560842  \n",
       "...                                ...                ...  \n",
       "9995                         -0.900937          -1.677278  \n",
       "9996                          0.145326           0.144447  \n",
       "9997                          0.145326           0.977236  \n",
       "9998                         -1.598446           2.070271  \n",
       "9999                         -1.249691           0.456743  \n",
       "\n",
       "[10000 rows x 6 columns]"
      ],
      "text/html": [
       "<div>\n",
       "<style scoped>\n",
       "    .dataframe tbody tr th:only-of-type {\n",
       "        vertical-align: middle;\n",
       "    }\n",
       "\n",
       "    .dataframe tbody tr th {\n",
       "        vertical-align: top;\n",
       "    }\n",
       "\n",
       "    .dataframe thead th {\n",
       "        text-align: right;\n",
       "    }\n",
       "</style>\n",
       "<table border=\"1\" class=\"dataframe\">\n",
       "  <thead>\n",
       "    <tr style=\"text-align: right;\">\n",
       "      <th></th>\n",
       "      <th>Hours Studied</th>\n",
       "      <th>Previous Scores</th>\n",
       "      <th>Extracurricular Activities</th>\n",
       "      <th>Sleep Hours</th>\n",
       "      <th>Sample Question Papers Practiced</th>\n",
       "      <th>Performance Index</th>\n",
       "    </tr>\n",
       "  </thead>\n",
       "  <tbody>\n",
       "    <tr>\n",
       "      <th>0</th>\n",
       "      <td>0.775149</td>\n",
       "      <td>1.704090</td>\n",
       "      <td>1.010404</td>\n",
       "      <td>1.456132</td>\n",
       "      <td>-1.249691</td>\n",
       "      <td>1.862074</td>\n",
       "    </tr>\n",
       "    <tr>\n",
       "      <th>1</th>\n",
       "      <td>-0.383461</td>\n",
       "      <td>0.723876</td>\n",
       "      <td>-0.989604</td>\n",
       "      <td>-1.492220</td>\n",
       "      <td>-0.900937</td>\n",
       "      <td>0.508792</td>\n",
       "    </tr>\n",
       "    <tr>\n",
       "      <th>2</th>\n",
       "      <td>1.161352</td>\n",
       "      <td>-1.063573</td>\n",
       "      <td>1.010404</td>\n",
       "      <td>0.276791</td>\n",
       "      <td>-0.900937</td>\n",
       "      <td>-0.532194</td>\n",
       "    </tr>\n",
       "    <tr>\n",
       "      <th>3</th>\n",
       "      <td>0.002742</td>\n",
       "      <td>-1.005913</td>\n",
       "      <td>1.010404</td>\n",
       "      <td>-0.902549</td>\n",
       "      <td>-0.900937</td>\n",
       "      <td>-1.000637</td>\n",
       "    </tr>\n",
       "    <tr>\n",
       "      <th>4</th>\n",
       "      <td>0.775149</td>\n",
       "      <td>0.320259</td>\n",
       "      <td>-0.989604</td>\n",
       "      <td>0.866462</td>\n",
       "      <td>0.145326</td>\n",
       "      <td>0.560842</td>\n",
       "    </tr>\n",
       "    <tr>\n",
       "      <th>...</th>\n",
       "      <td>...</td>\n",
       "      <td>...</td>\n",
       "      <td>...</td>\n",
       "      <td>...</td>\n",
       "      <td>...</td>\n",
       "      <td>...</td>\n",
       "    </tr>\n",
       "    <tr>\n",
       "      <th>9995</th>\n",
       "      <td>-1.542072</td>\n",
       "      <td>-1.178892</td>\n",
       "      <td>1.010404</td>\n",
       "      <td>-1.492220</td>\n",
       "      <td>-0.900937</td>\n",
       "      <td>-1.677278</td>\n",
       "    </tr>\n",
       "    <tr>\n",
       "      <th>9996</th>\n",
       "      <td>0.775149</td>\n",
       "      <td>-0.313997</td>\n",
       "      <td>1.010404</td>\n",
       "      <td>0.866462</td>\n",
       "      <td>0.145326</td>\n",
       "      <td>0.144447</td>\n",
       "    </tr>\n",
       "    <tr>\n",
       "      <th>9997</th>\n",
       "      <td>0.388945</td>\n",
       "      <td>0.781536</td>\n",
       "      <td>1.010404</td>\n",
       "      <td>0.866462</td>\n",
       "      <td>0.145326</td>\n",
       "      <td>0.977236</td>\n",
       "    </tr>\n",
       "    <tr>\n",
       "      <th>9998</th>\n",
       "      <td>1.547556</td>\n",
       "      <td>1.588771</td>\n",
       "      <td>1.010404</td>\n",
       "      <td>0.276791</td>\n",
       "      <td>-1.598446</td>\n",
       "      <td>2.070271</td>\n",
       "    </tr>\n",
       "    <tr>\n",
       "      <th>9999</th>\n",
       "      <td>0.775149</td>\n",
       "      <td>0.262599</td>\n",
       "      <td>-0.989604</td>\n",
       "      <td>0.866462</td>\n",
       "      <td>-1.249691</td>\n",
       "      <td>0.456743</td>\n",
       "    </tr>\n",
       "  </tbody>\n",
       "</table>\n",
       "<p>10000 rows × 6 columns</p>\n",
       "</div>"
      ]
     },
     "execution_count": 6,
     "metadata": {},
     "output_type": "execute_result"
    }
   ],
   "execution_count": 6
  },
  {
   "metadata": {
    "ExecuteTime": {
     "end_time": "2024-09-28T07:28:53.081976Z",
     "start_time": "2024-09-28T07:28:53.067686Z"
    }
   },
   "cell_type": "code",
   "source": "data.describe()",
   "id": "2fb57184a0293a63",
   "outputs": [
    {
     "data": {
      "text/plain": [
       "       Hours Studied  Previous Scores  Extracurricular Activities  \\\n",
       "count   1.000000e+04     1.000000e+04                1.000000e+04   \n",
       "mean    9.805490e-17    -1.247003e-16                1.776357e-17   \n",
       "std     1.000000e+00     1.000000e+00                1.000000e+00   \n",
       "min    -1.542072e+00    -1.697829e+00               -9.896040e-01   \n",
       "25%    -7.696649e-01    -8.905936e-01               -9.896040e-01   \n",
       "50%     2.742045e-03    -2.569890e-02               -9.896040e-01   \n",
       "75%     7.751490e-01     8.968554e-01                1.010404e+00   \n",
       "max     1.547556e+00     1.704090e+00                1.010404e+00   \n",
       "\n",
       "        Sleep Hours  Sample Question Papers Practiced  Performance Index  \n",
       "count  1.000000e+04                      1.000000e+04       1.000000e+04  \n",
       "mean   1.612932e-16                     -1.357137e-16      -9.734435e-17  \n",
       "std    1.000000e+00                      1.000000e+00       1.000000e+00  \n",
       "min   -1.492220e+00                     -1.598446e+00      -2.353919e+00  \n",
       "25%   -9.025493e-01                     -9.009371e-01      -7.924400e-01  \n",
       "50%    2.767912e-01                      1.453259e-01      -1.170068e-02  \n",
       "75%    8.664615e-01                      8.428346e-01       8.210880e-01  \n",
       "max    1.456132e+00                      1.540343e+00       2.330517e+00  "
      ],
      "text/html": [
       "<div>\n",
       "<style scoped>\n",
       "    .dataframe tbody tr th:only-of-type {\n",
       "        vertical-align: middle;\n",
       "    }\n",
       "\n",
       "    .dataframe tbody tr th {\n",
       "        vertical-align: top;\n",
       "    }\n",
       "\n",
       "    .dataframe thead th {\n",
       "        text-align: right;\n",
       "    }\n",
       "</style>\n",
       "<table border=\"1\" class=\"dataframe\">\n",
       "  <thead>\n",
       "    <tr style=\"text-align: right;\">\n",
       "      <th></th>\n",
       "      <th>Hours Studied</th>\n",
       "      <th>Previous Scores</th>\n",
       "      <th>Extracurricular Activities</th>\n",
       "      <th>Sleep Hours</th>\n",
       "      <th>Sample Question Papers Practiced</th>\n",
       "      <th>Performance Index</th>\n",
       "    </tr>\n",
       "  </thead>\n",
       "  <tbody>\n",
       "    <tr>\n",
       "      <th>count</th>\n",
       "      <td>1.000000e+04</td>\n",
       "      <td>1.000000e+04</td>\n",
       "      <td>1.000000e+04</td>\n",
       "      <td>1.000000e+04</td>\n",
       "      <td>1.000000e+04</td>\n",
       "      <td>1.000000e+04</td>\n",
       "    </tr>\n",
       "    <tr>\n",
       "      <th>mean</th>\n",
       "      <td>9.805490e-17</td>\n",
       "      <td>-1.247003e-16</td>\n",
       "      <td>1.776357e-17</td>\n",
       "      <td>1.612932e-16</td>\n",
       "      <td>-1.357137e-16</td>\n",
       "      <td>-9.734435e-17</td>\n",
       "    </tr>\n",
       "    <tr>\n",
       "      <th>std</th>\n",
       "      <td>1.000000e+00</td>\n",
       "      <td>1.000000e+00</td>\n",
       "      <td>1.000000e+00</td>\n",
       "      <td>1.000000e+00</td>\n",
       "      <td>1.000000e+00</td>\n",
       "      <td>1.000000e+00</td>\n",
       "    </tr>\n",
       "    <tr>\n",
       "      <th>min</th>\n",
       "      <td>-1.542072e+00</td>\n",
       "      <td>-1.697829e+00</td>\n",
       "      <td>-9.896040e-01</td>\n",
       "      <td>-1.492220e+00</td>\n",
       "      <td>-1.598446e+00</td>\n",
       "      <td>-2.353919e+00</td>\n",
       "    </tr>\n",
       "    <tr>\n",
       "      <th>25%</th>\n",
       "      <td>-7.696649e-01</td>\n",
       "      <td>-8.905936e-01</td>\n",
       "      <td>-9.896040e-01</td>\n",
       "      <td>-9.025493e-01</td>\n",
       "      <td>-9.009371e-01</td>\n",
       "      <td>-7.924400e-01</td>\n",
       "    </tr>\n",
       "    <tr>\n",
       "      <th>50%</th>\n",
       "      <td>2.742045e-03</td>\n",
       "      <td>-2.569890e-02</td>\n",
       "      <td>-9.896040e-01</td>\n",
       "      <td>2.767912e-01</td>\n",
       "      <td>1.453259e-01</td>\n",
       "      <td>-1.170068e-02</td>\n",
       "    </tr>\n",
       "    <tr>\n",
       "      <th>75%</th>\n",
       "      <td>7.751490e-01</td>\n",
       "      <td>8.968554e-01</td>\n",
       "      <td>1.010404e+00</td>\n",
       "      <td>8.664615e-01</td>\n",
       "      <td>8.428346e-01</td>\n",
       "      <td>8.210880e-01</td>\n",
       "    </tr>\n",
       "    <tr>\n",
       "      <th>max</th>\n",
       "      <td>1.547556e+00</td>\n",
       "      <td>1.704090e+00</td>\n",
       "      <td>1.010404e+00</td>\n",
       "      <td>1.456132e+00</td>\n",
       "      <td>1.540343e+00</td>\n",
       "      <td>2.330517e+00</td>\n",
       "    </tr>\n",
       "  </tbody>\n",
       "</table>\n",
       "</div>"
      ]
     },
     "execution_count": 7,
     "metadata": {},
     "output_type": "execute_result"
    }
   ],
   "execution_count": 7
  },
  {
   "metadata": {},
   "cell_type": "markdown",
   "source": "### 3. Разделите данные на обучающий и тестовый наборы данных.",
   "id": "4f8f1fe040166c76"
  },
  {
   "metadata": {},
   "cell_type": "markdown",
   "source": "Данные делятся в пропорции 80% на обучающую выборку и 20% на тестовую",
   "id": "ab2ae7cbaff7b58c"
  },
  {
   "metadata": {
    "ExecuteTime": {
     "end_time": "2024-09-28T07:28:53.088235Z",
     "start_time": "2024-09-28T07:28:53.081976Z"
    }
   },
   "cell_type": "code",
   "source": [
    "X = data[['Hours Studied', 'Previous Scores', 'Extracurricular Activities', 'Sleep Hours',\n",
    "          'Sample Question Papers Practiced']].values\n",
    "y = data['Performance Index'].values\n",
    "\n",
    "# Add a column of ones to X for the intercept term (bias)\n",
    "X = np.concatenate([np.ones((X.shape[0], 1)), X], axis=1)\n",
    "\n",
    "train_size = int(0.8 * X.shape[0])\n",
    "X_train, X_test = X[:train_size], X[train_size:]\n",
    "y_train, y_test = y[:train_size], y[train_size:]\n",
    "\n",
    "X_train.shape, X_test.shape, y_train.shape, y_test.shape"
   ],
   "id": "1f627cc4eea61109",
   "outputs": [
    {
     "data": {
      "text/plain": [
       "((8000, 6), (2000, 6), (8000,), (2000,))"
      ]
     },
     "execution_count": 8,
     "metadata": {},
     "output_type": "execute_result"
    }
   ],
   "execution_count": 8
  },
  {
   "metadata": {},
   "cell_type": "markdown",
   "source": "### 4. Реализуйте линейную регрессию с использованием метода наименьших квадратов без использования сторонних библиотек, кроме NumPy и Pandas (для использования коэффициентов использовать библиотеки тоже нельзя). Использовать минимизацию суммы квадратов разностей между фактическими и предсказанными значениями для нахождения оптимальных коэффициентов.",
   "id": "ca79d99da631a01"
  },
  {
   "metadata": {},
   "cell_type": "markdown",
   "source": "Реализуем функцию для градиентного спуска",
   "id": "97046adc7aabc960"
  },
  {
   "metadata": {
    "ExecuteTime": {
     "end_time": "2024-09-28T07:28:53.169199Z",
     "start_time": "2024-09-28T07:28:53.088235Z"
    }
   },
   "cell_type": "code",
   "source": [
    "def gradient_descent(X, y, theta, learning_rate=0.01, num_iterations=1000):\n",
    "    assert X.shape[0] == y.shape[0], \"X and y must have the same number of rows\"\n",
    "    assert X.shape[1] == theta.shape[0], \"X and theta must have the same number of columns\"\n",
    "    print(f\"Training {num_iterations} iterations with learning rate {learning_rate}\")\n",
    "    m = len(y)\n",
    "    for i in range(num_iterations):\n",
    "        predictions = X.dot(theta)\n",
    "        gradients = (1 / m) * X.T.dot(predictions - y)\n",
    "        theta = theta - learning_rate * gradients\n",
    "        \n",
    "        if i % 100 == 0 or i == num_iterations - 1:\n",
    "            cost = (1 / (2 * m)) * np.sum((predictions - y) ** 2)\n",
    "            print(f\"Iteration {i}: Cost {cost}\")\n",
    "            \n",
    "    print(f\"Training complete.\")\n",
    "    return theta\n",
    "\n",
    "# Initialize theta (all zeros)\n",
    "theta = np.zeros(X_train.shape[1])\n",
    "theta = gradient_descent(X_train, y_train, theta)\n",
    "\n",
    "theta"
   ],
   "id": "2993af84a6a1edc8",
   "outputs": [
    {
     "name": "stdout",
     "output_type": "stream",
     "text": [
      "Training 1000 iterations with learning rate 0.01\n",
      "Iteration 0: Cost 0.5012525323570195\n",
      "Iteration 100: Cost 0.07250165481554842\n",
      "Iteration 200: Cost 0.014642394352336344\n",
      "Iteration 300: Cost 0.0068184674457541835\n",
      "Iteration 400: Cost 0.005758330655834117\n",
      "Iteration 500: Cost 0.005614390506903165\n",
      "Iteration 600: Cost 0.005594807508577631\n",
      "Iteration 700: Cost 0.0055921379186112145\n",
      "Iteration 800: Cost 0.005591773277351132\n",
      "Iteration 900: Cost 0.005591723374236819\n",
      "Iteration 999: Cost 0.0055917165536208645\n",
      "Training complete.\n"
     ]
    },
    {
     "data": {
      "text/plain": [
       "array([-7.55284202e-04,  3.84277776e-01,  9.18927033e-01,  1.64315010e-02,\n",
       "        4.18599748e-02,  2.85694790e-02])"
      ]
     },
     "execution_count": 9,
     "metadata": {},
     "output_type": "execute_result"
    }
   ],
   "execution_count": 9
  },
  {
   "metadata": {},
   "cell_type": "markdown",
   "source": "### 5. Постройте три модели с различными наборами признаков. Для каждой модели проведите оценку производительности, используя метрику коэффициент детерминации, чтобы измерить, насколько хорошо модель соответствует данным.",
   "id": "668573734efb77d5"
  },
  {
   "metadata": {},
   "cell_type": "markdown",
   "source": "Функция для вычисления коэффициента детерминации",
   "id": "5a80801eb186d484"
  },
  {
   "metadata": {
    "ExecuteTime": {
     "end_time": "2024-09-28T07:28:53.173006Z",
     "start_time": "2024-09-28T07:28:53.169199Z"
    }
   },
   "cell_type": "code",
   "source": [
    "def r_squared(y_true, y_pred):\n",
    "    assert len(y_true) == len(y_pred), \"y_true and y_pred must have the same length\"\n",
    "    mean_y = np.mean(y_true)\n",
    "    ss_tot = np.sum((y_true - mean_y) ** 2) # Объяснённая дисперсия\n",
    "    ss_res = np.sum((y_true - y_pred) ** 2) # Необъяснённая дисперсия\n",
    "    r2 = 1 - (ss_res / ss_tot)\n",
    "    return r2"
   ],
   "id": "8728bc3923f6b54c",
   "outputs": [],
   "execution_count": 10
  },
  {
   "metadata": {},
   "cell_type": "markdown",
   "source": "Модель 1: все признаки",
   "id": "4e4b2c7bf1434498"
  },
  {
   "metadata": {
    "ExecuteTime": {
     "end_time": "2024-09-28T07:28:53.256450Z",
     "start_time": "2024-09-28T07:28:53.174011Z"
    }
   },
   "cell_type": "code",
   "source": [
    "X_train_model1 = X_train\n",
    "X_test_model1 = X_test\n",
    "theta_model1 = np.zeros(X_train_model1.shape[1])\n",
    "theta_model1 = gradient_descent(X_train_model1, y_train, theta_model1)\n",
    "y_pred_model1 = X_test_model1.dot(theta_model1)\n",
    "r2_model1 = r_squared(y_test, y_pred_model1)\n",
    "r2_model1"
   ],
   "id": "5bcaa19dcae6f4a5",
   "outputs": [
    {
     "name": "stdout",
     "output_type": "stream",
     "text": [
      "Training 1000 iterations with learning rate 0.01\n",
      "Iteration 0: Cost 0.5012525323570195\n",
      "Iteration 100: Cost 0.07250165481554842\n",
      "Iteration 200: Cost 0.014642394352336344\n",
      "Iteration 300: Cost 0.0068184674457541835\n",
      "Iteration 400: Cost 0.005758330655834117\n",
      "Iteration 500: Cost 0.005614390506903165\n",
      "Iteration 600: Cost 0.005594807508577631\n",
      "Iteration 700: Cost 0.0055921379186112145\n",
      "Iteration 800: Cost 0.005591773277351132\n",
      "Iteration 900: Cost 0.005591723374236819\n",
      "Iteration 999: Cost 0.0055917165536208645\n",
      "Training complete.\n"
     ]
    },
    {
     "data": {
      "text/plain": [
       "np.float64(0.9883697440959182)"
      ]
     },
     "execution_count": 11,
     "metadata": {},
     "output_type": "execute_result"
    }
   ],
   "execution_count": 11
  },
  {
   "metadata": {},
   "cell_type": "markdown",
   "source": "Модель 2: признаки 'Hours Studied', 'Hours Slept'",
   "id": "c9776cd1e8e5aa03"
  },
  {
   "metadata": {
    "ExecuteTime": {
     "end_time": "2024-09-28T07:28:53.276580Z",
     "start_time": "2024-09-28T07:28:53.257455Z"
    }
   },
   "cell_type": "code",
   "source": [
    "X_train_model2 = X_train[:, [0, 1, 4]]\n",
    "X_test_model2 = X_test[:, [0, 1, 4]]\n",
    "theta_model2 = np.zeros(X_train_model2.shape[1])\n",
    "theta_model2 = gradient_descent(X_train_model2, y_train, theta_model2)\n",
    "y_pred_model2 = X_test_model2.dot(theta_model2)\n",
    "r2_model2 = r_squared(y_test, y_pred_model2)\n",
    "r2_model2"
   ],
   "id": "58257784bb143d1a",
   "outputs": [
    {
     "name": "stdout",
     "output_type": "stream",
     "text": [
      "Training 1000 iterations with learning rate 0.01\n",
      "Iteration 0: Cost 0.5012525323570195\n",
      "Iteration 100: Cost 0.4389155882389505\n",
      "Iteration 200: Cost 0.4305504571328264\n",
      "Iteration 300: Cost 0.4294277880437181\n",
      "Iteration 400: Cost 0.4292770988311313\n",
      "Iteration 500: Cost 0.4292568703370281\n",
      "Iteration 600: Cost 0.4292541545511125\n",
      "Iteration 700: Cost 0.4292537898998782\n",
      "Iteration 800: Cost 0.4292537409321899\n",
      "Iteration 900: Cost 0.4292537343557501\n",
      "Iteration 999: Cost 0.4292537334752035\n",
      "Training complete.\n"
     ]
    },
    {
     "data": {
      "text/plain": [
       "np.float64(0.13463663177021534)"
      ]
     },
     "execution_count": 12,
     "metadata": {},
     "output_type": "execute_result"
    }
   ],
   "execution_count": 12
  },
  {
   "metadata": {},
   "cell_type": "markdown",
   "source": "Модель 3: признаки 'Previous Scores', 'Extracurricular Activities', 'Sample Question Papers Practiced'",
   "id": "fff546c336f4b632"
  },
  {
   "metadata": {
    "ExecuteTime": {
     "end_time": "2024-09-28T07:28:53.297089Z",
     "start_time": "2024-09-28T07:28:53.277583Z"
    }
   },
   "cell_type": "code",
   "source": [
    "X_train_model3 = X_train[:, [0, 2, 3, 5]]\n",
    "X_test_model3 = X_test[:, [0, 2, 3, 5]]\n",
    "theta_model3 = np.zeros(X_train_model3.shape[1])\n",
    "theta_model3 = gradient_descent(X_train_model3, y_train, theta_model3)\n",
    "y_pred_model3 = X_test_model3.dot(theta_model3)\n",
    "r2_model3 = r_squared(y_test, y_pred_model3)\n",
    "r2_model3"
   ],
   "id": "20535e047361b746",
   "outputs": [
    {
     "name": "stdout",
     "output_type": "stream",
     "text": [
      "Training 1000 iterations with learning rate 0.01\n",
      "Iteration 0: Cost 0.5012525323570195\n",
      "Iteration 100: Cost 0.13633279638736773\n",
      "Iteration 200: Cost 0.08768570899498425\n",
      "Iteration 300: Cost 0.08119840779849144\n",
      "Iteration 400: Cost 0.08033300968298619\n",
      "Iteration 500: Cost 0.08021752897828406\n",
      "Iteration 600: Cost 0.08020211405249353\n",
      "Iteration 700: Cost 0.08020005575129477\n",
      "Iteration 800: Cost 0.08019978082970437\n",
      "Iteration 900: Cost 0.08019974409824579\n",
      "Iteration 999: Cost 0.08019973920463319\n",
      "Training complete.\n"
     ]
    },
    {
     "data": {
      "text/plain": [
       "np.float64(0.8355939872997946)"
      ]
     },
     "execution_count": 13,
     "metadata": {},
     "output_type": "execute_result"
    }
   ],
   "execution_count": 13
  },
  {
   "metadata": {},
   "cell_type": "markdown",
   "source": [
    "**Бонусная модель: добавим синтетические признаки**\n",
    "\n",
    "Признак 'Preparation' будет равен произведению признаков 'Hours Studied' и 'Sample Question Papers Practiced'\n",
    "Признак 'Time Left' будет равен разности 24 часов и признаков 'Sleep Hours' и 'Hours Studied'"
   ],
   "id": "903831733992452f"
  },
  {
   "metadata": {
    "ExecuteTime": {
     "end_time": "2024-09-28T07:28:53.311849Z",
     "start_time": "2024-09-28T07:28:53.298416Z"
    }
   },
   "cell_type": "code",
   "source": [
    "data['Preparation'] = data['Hours Studied'] * data['Sample Question Papers Practiced']\n",
    "original_data = pd.read_csv(file_path)\n",
    "data['Time Left'] = 24 - original_data['Sleep Hours'] - original_data['Hours Studied']\n",
    "data['Time Left'] = (data['Time Left'] - data['Time Left'].mean()) / data['Time Left'].std()\n",
    "data"
   ],
   "id": "9421451c8fc992e1",
   "outputs": [
    {
     "data": {
      "text/plain": [
       "      Hours Studied  Previous Scores  Extracurricular Activities  Sleep Hours  \\\n",
       "0          0.775149         1.704090                    1.010404     1.456132   \n",
       "1         -0.383461         0.723876                   -0.989604    -1.492220   \n",
       "2          1.161352        -1.063573                    1.010404     0.276791   \n",
       "3          0.002742        -1.005913                    1.010404    -0.902549   \n",
       "4          0.775149         0.320259                   -0.989604     0.866462   \n",
       "...             ...              ...                         ...          ...   \n",
       "9995      -1.542072        -1.178892                    1.010404    -1.492220   \n",
       "9996       0.775149        -0.313997                    1.010404     0.866462   \n",
       "9997       0.388945         0.781536                    1.010404     0.866462   \n",
       "9998       1.547556         1.588771                    1.010404     0.276791   \n",
       "9999       0.775149         0.262599                   -0.989604     0.866462   \n",
       "\n",
       "      Sample Question Papers Practiced  Performance Index  Preparation  \\\n",
       "0                            -1.249691           1.862074    -0.968697   \n",
       "1                            -0.900937           0.508792     0.345475   \n",
       "2                            -0.900937          -0.532194    -1.046305   \n",
       "3                            -0.900937          -1.000637    -0.002470   \n",
       "4                             0.145326           0.560842     0.112649   \n",
       "...                                ...                ...          ...   \n",
       "9995                         -0.900937          -1.677278     1.389310   \n",
       "9996                          0.145326           0.144447     0.112649   \n",
       "9997                          0.145326           0.977236     0.056524   \n",
       "9998                         -1.598446           2.070271    -2.473684   \n",
       "9999                         -1.249691           0.456743    -0.968697   \n",
       "\n",
       "      Time Left  \n",
       "0     -1.445431  \n",
       "1      1.137714  \n",
       "2     -1.122538  \n",
       "3      0.491928  \n",
       "4     -1.122538  \n",
       "...         ...  \n",
       "9995   2.106394  \n",
       "9996  -1.122538  \n",
       "9997  -0.799645  \n",
       "9998  -1.445431  \n",
       "9999  -1.122538  \n",
       "\n",
       "[10000 rows x 8 columns]"
      ],
      "text/html": [
       "<div>\n",
       "<style scoped>\n",
       "    .dataframe tbody tr th:only-of-type {\n",
       "        vertical-align: middle;\n",
       "    }\n",
       "\n",
       "    .dataframe tbody tr th {\n",
       "        vertical-align: top;\n",
       "    }\n",
       "\n",
       "    .dataframe thead th {\n",
       "        text-align: right;\n",
       "    }\n",
       "</style>\n",
       "<table border=\"1\" class=\"dataframe\">\n",
       "  <thead>\n",
       "    <tr style=\"text-align: right;\">\n",
       "      <th></th>\n",
       "      <th>Hours Studied</th>\n",
       "      <th>Previous Scores</th>\n",
       "      <th>Extracurricular Activities</th>\n",
       "      <th>Sleep Hours</th>\n",
       "      <th>Sample Question Papers Practiced</th>\n",
       "      <th>Performance Index</th>\n",
       "      <th>Preparation</th>\n",
       "      <th>Time Left</th>\n",
       "    </tr>\n",
       "  </thead>\n",
       "  <tbody>\n",
       "    <tr>\n",
       "      <th>0</th>\n",
       "      <td>0.775149</td>\n",
       "      <td>1.704090</td>\n",
       "      <td>1.010404</td>\n",
       "      <td>1.456132</td>\n",
       "      <td>-1.249691</td>\n",
       "      <td>1.862074</td>\n",
       "      <td>-0.968697</td>\n",
       "      <td>-1.445431</td>\n",
       "    </tr>\n",
       "    <tr>\n",
       "      <th>1</th>\n",
       "      <td>-0.383461</td>\n",
       "      <td>0.723876</td>\n",
       "      <td>-0.989604</td>\n",
       "      <td>-1.492220</td>\n",
       "      <td>-0.900937</td>\n",
       "      <td>0.508792</td>\n",
       "      <td>0.345475</td>\n",
       "      <td>1.137714</td>\n",
       "    </tr>\n",
       "    <tr>\n",
       "      <th>2</th>\n",
       "      <td>1.161352</td>\n",
       "      <td>-1.063573</td>\n",
       "      <td>1.010404</td>\n",
       "      <td>0.276791</td>\n",
       "      <td>-0.900937</td>\n",
       "      <td>-0.532194</td>\n",
       "      <td>-1.046305</td>\n",
       "      <td>-1.122538</td>\n",
       "    </tr>\n",
       "    <tr>\n",
       "      <th>3</th>\n",
       "      <td>0.002742</td>\n",
       "      <td>-1.005913</td>\n",
       "      <td>1.010404</td>\n",
       "      <td>-0.902549</td>\n",
       "      <td>-0.900937</td>\n",
       "      <td>-1.000637</td>\n",
       "      <td>-0.002470</td>\n",
       "      <td>0.491928</td>\n",
       "    </tr>\n",
       "    <tr>\n",
       "      <th>4</th>\n",
       "      <td>0.775149</td>\n",
       "      <td>0.320259</td>\n",
       "      <td>-0.989604</td>\n",
       "      <td>0.866462</td>\n",
       "      <td>0.145326</td>\n",
       "      <td>0.560842</td>\n",
       "      <td>0.112649</td>\n",
       "      <td>-1.122538</td>\n",
       "    </tr>\n",
       "    <tr>\n",
       "      <th>...</th>\n",
       "      <td>...</td>\n",
       "      <td>...</td>\n",
       "      <td>...</td>\n",
       "      <td>...</td>\n",
       "      <td>...</td>\n",
       "      <td>...</td>\n",
       "      <td>...</td>\n",
       "      <td>...</td>\n",
       "    </tr>\n",
       "    <tr>\n",
       "      <th>9995</th>\n",
       "      <td>-1.542072</td>\n",
       "      <td>-1.178892</td>\n",
       "      <td>1.010404</td>\n",
       "      <td>-1.492220</td>\n",
       "      <td>-0.900937</td>\n",
       "      <td>-1.677278</td>\n",
       "      <td>1.389310</td>\n",
       "      <td>2.106394</td>\n",
       "    </tr>\n",
       "    <tr>\n",
       "      <th>9996</th>\n",
       "      <td>0.775149</td>\n",
       "      <td>-0.313997</td>\n",
       "      <td>1.010404</td>\n",
       "      <td>0.866462</td>\n",
       "      <td>0.145326</td>\n",
       "      <td>0.144447</td>\n",
       "      <td>0.112649</td>\n",
       "      <td>-1.122538</td>\n",
       "    </tr>\n",
       "    <tr>\n",
       "      <th>9997</th>\n",
       "      <td>0.388945</td>\n",
       "      <td>0.781536</td>\n",
       "      <td>1.010404</td>\n",
       "      <td>0.866462</td>\n",
       "      <td>0.145326</td>\n",
       "      <td>0.977236</td>\n",
       "      <td>0.056524</td>\n",
       "      <td>-0.799645</td>\n",
       "    </tr>\n",
       "    <tr>\n",
       "      <th>9998</th>\n",
       "      <td>1.547556</td>\n",
       "      <td>1.588771</td>\n",
       "      <td>1.010404</td>\n",
       "      <td>0.276791</td>\n",
       "      <td>-1.598446</td>\n",
       "      <td>2.070271</td>\n",
       "      <td>-2.473684</td>\n",
       "      <td>-1.445431</td>\n",
       "    </tr>\n",
       "    <tr>\n",
       "      <th>9999</th>\n",
       "      <td>0.775149</td>\n",
       "      <td>0.262599</td>\n",
       "      <td>-0.989604</td>\n",
       "      <td>0.866462</td>\n",
       "      <td>-1.249691</td>\n",
       "      <td>0.456743</td>\n",
       "      <td>-0.968697</td>\n",
       "      <td>-1.122538</td>\n",
       "    </tr>\n",
       "  </tbody>\n",
       "</table>\n",
       "<p>10000 rows × 8 columns</p>\n",
       "</div>"
      ]
     },
     "execution_count": 14,
     "metadata": {},
     "output_type": "execute_result"
    }
   ],
   "execution_count": 14
  },
  {
   "metadata": {
    "ExecuteTime": {
     "end_time": "2024-09-28T07:28:53.317849Z",
     "start_time": "2024-09-28T07:28:53.312854Z"
    }
   },
   "cell_type": "code",
   "source": [
    "X_synthetic = data[['Hours Studied', 'Previous Scores', 'Extracurricular Activities', 'Sleep Hours', 'Sample Question Papers Practiced', 'Preparation', 'Time Left']].values\n",
    "X_synthetic = np.concatenate([np.ones((X_synthetic.shape[0], 1)), X_synthetic], axis=1)\n",
    "\n",
    "train_size = int(0.8 * X_synthetic.shape[0])\n",
    "X_train_synthetic, X_test_synthetic = X_synthetic[:train_size], X_synthetic[train_size:]\n",
    "y_train_synthetic, y_test_synthetic = y[:train_size], y[train_size:]\n",
    "\n",
    "X_train_synthetic.shape, X_test_synthetic.shape, y_train_synthetic.shape, y_test_synthetic.shape"
   ],
   "id": "864575e9c135a70e",
   "outputs": [
    {
     "data": {
      "text/plain": [
       "((8000, 8), (2000, 8), (8000,), (2000,))"
      ]
     },
     "execution_count": 15,
     "metadata": {},
     "output_type": "execute_result"
    }
   ],
   "execution_count": 15
  },
  {
   "metadata": {},
   "cell_type": "markdown",
   "source": "Модель 4: все признаки + синтетический признак",
   "id": "ace5454388d003e6"
  },
  {
   "metadata": {
    "ExecuteTime": {
     "end_time": "2024-09-28T07:28:53.407536Z",
     "start_time": "2024-09-28T07:28:53.317849Z"
    }
   },
   "cell_type": "code",
   "source": [
    "theta_synthetic = np.zeros(X_train_synthetic.shape[1])\n",
    "theta_synthetic = gradient_descent(X_train_synthetic, y_train_synthetic, theta_synthetic)\n",
    "y_pred_synthetic = X_test_synthetic.dot(theta_synthetic)\n",
    "r2_synthetic = r_squared(y_test_synthetic, y_pred_synthetic)\n",
    "r2_synthetic"
   ],
   "id": "1280c5460e9840f5",
   "outputs": [
    {
     "name": "stdout",
     "output_type": "stream",
     "text": [
      "Training 1000 iterations with learning rate 0.01\n",
      "Iteration 0: Cost 0.5012525323570195\n",
      "Iteration 100: Cost 0.06560733315559464\n",
      "Iteration 200: Cost 0.013597194101308795\n",
      "Iteration 300: Cost 0.006675955737193661\n",
      "Iteration 400: Cost 0.005739118171591589\n",
      "Iteration 500: Cost 0.005611795521143101\n",
      "Iteration 600: Cost 0.005594449941518166\n",
      "Iteration 700: Cost 0.0055920816479511385\n",
      "Iteration 800: Cost 0.005591757571047027\n",
      "Iteration 900: Cost 0.00559171312465679\n",
      "Iteration 999: Cost 0.0055917070346454345\n",
      "Training complete.\n"
     ]
    },
    {
     "data": {
      "text/plain": [
       "np.float64(0.988370426824619)"
      ]
     },
     "execution_count": 16,
     "metadata": {},
     "output_type": "execute_result"
    }
   ],
   "execution_count": 16
  }
 ],
 "metadata": {
  "kernelspec": {
   "display_name": "Python 3",
   "language": "python",
   "name": "python3"
  },
  "language_info": {
   "codemirror_mode": {
    "name": "ipython",
    "version": 2
   },
   "file_extension": ".py",
   "mimetype": "text/x-python",
   "name": "python",
   "nbconvert_exporter": "python",
   "pygments_lexer": "ipython2",
   "version": "2.7.6"
  }
 },
 "nbformat": 4,
 "nbformat_minor": 5
}
